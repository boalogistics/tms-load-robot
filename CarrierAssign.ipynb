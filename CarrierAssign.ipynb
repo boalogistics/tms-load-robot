{
 "cells": [
  {
   "cell_type": "code",
   "execution_count": 41,
   "metadata": {},
   "outputs": [
    {
     "name": "stdout",
     "output_type": "stream",
     "text": [
      "['', '202039, 202510, 202016, 202020, 201030, 201999, 202025, 202499, 202511, 202515, 202496, 202498, 202512, 202513, 202514, 202516, 202564, 202578, 202497, 201574, 202594, 202600, 202437, 202306, 201186, 201527, 201539, 202037, 202263, 202262, 201075, 201325, 200817, 201327, 201338, 201744, 201741, 201332, 202075, 201562, 202077, 201764, 201880, 202176, 200861, 200867, 200870, 202271, 201579, 202574, 202571, 202415, 201970, 202366, 202169, 202170, 202171, 202300, 202301, 202630, 202631, 201581, 201595, 201774, 202208, 202504, 202439, 202500, 202503, 202379, 202026, 202328, 202336, 202337, 202491, 202618, 198997, 199000, 198995, 201561, 201672, 202346, 202348, 202378, 200680, 200901, 200985, 200988, 200990, 200993, 201541, 202292, 201877, 202312, 202149, 202489, 202085, 202177, 200333, 201052, 201908, 201909, 201910, 201911, 201912, 201913, 201537, 201865, 201993, 202428, 202484, 202494, 201405, 202466, 202468, 202470, 202471, 202449, 202450, 202451, 202452, 202453, 202457, 202454, 202455, 202456, 202372, 202458, 202459, 202460, 201310, 201982, 201977, 202067, 202070, 202073, 201819, 201820, 201824, 201821, 201826, 201827, 201828, 201822, 201823, 201825, 201829, 202566, 202493, 201729, 201899, 201507, 201757, 202203, 202288, 202320, 202321, 202326, 202331, 202333, 202334, 202689, 200708, 202693, 202694, 202695, 202696, 202700, 202701, 202711, 202712, 202713, 202714, 202715, 202716, 202628, 202706, 202742, 202708, 202746, 202745, 202749, 202750, 202753, 202755, 202756, 202759, 202692, 202619, 202622, 202626, 202629, 202639, 202643, 202644, 202646, 202647, 202648, 202649, 202650, 202651, 202664, 202665, 202667, 202668, 202669, 202670, 202671, 202673, 202674, 202675, 202676, 202677, 202684, 202688, 202788, 202785, 202797, 202810, 202803, 202804, 202815, 202820, 202825, 202827, 202822, 202831, 202846, 202848, 202860, 202861, 202862, 202863, 202865, 202866, 202867, 202868, 202869, 202870, 202871, 202872, 202873, 202874, 202875, 202876, 202877, 202878, 202879, 202880, 202881, 202883, 202884, 202885, 202888, 202858, 202761, 202762, 202763, 202889, 202897, 202914, 202839, 202898, 202899, 202900, 202901, 202902, 202904, 202909, 202911, 202913, 202915, 202916, 202917, 202918, 202919, 202920, 202921, 202922, 202923, 202924, 202925, 202926, 202927, 202928, 202929, 202930, 202931, 202932, 202933, 202934, 203051, 203055, 203057, 203059, 203061, 203062, 203065, 203066, 203067, 203068, 203069, 203070, 203071, 203072, 203073, 203074, 203026, 203079, 203080, 203081, 203082, 203083, 203084, 203086, 203087, 202859, 202891, 202892, 202893, 202894, 202895, 202896, 203113, 203119, 203121, 203123, 203124, 203125, 202213, 202207, 203159, 203154, 203204, 203205, 203227, 203230, 203268, 203290, 202954, 202956, 202953, 202955, 202965, 202969, 202974, 202975, 202979, 202981, 202983, 202984, 203000, 202994, 202995, 202996, 202998, 202999, 203017, 203020, 203022, 203023, 203027, 203028, 203029, 203030, 203031, 203032, 203034, 203039, 203040, 203041, 203042, 203043, 203044, 203045, 203046, 203047, 203048, 203049, 203050']\n",
      "CarrierAssignedReport20210820 (2).xls downloaded.\n",
      "email sent\n"
     ]
    },
    {
     "data": {
      "text/plain": [
       "True"
      ]
     },
     "execution_count": 41,
     "metadata": {},
     "output_type": "execute_result"
    }
   ],
   "source": [
    "#READ DELIVERY SCHEDULE\n",
    "\n",
    "import os\n",
    "import pandas as pd\n",
    "import numpy as np\n",
    "import math\n",
    "import data_extract_Sheets as extr\n",
    "from selenium import webdriver\n",
    "from datetime import date, datetime, timedelta\n",
    "import time\n",
    "import os\n",
    "from outlook_send import send_email\n",
    "\n",
    "from IPython.display import display, HTML\n",
    "\n",
    "#DELETE TRAILERMAP.XLSX TO PREVENT ADDING ON TO OLD DATA\n",
    "#os.remove(\"TrailerMap.xlsx\")\n",
    "\n",
    "#def get_trucks_data():\n",
    "   # \"\"\"Gets list of trucks from current week Boa Warehousing Delivery Schedule Google Sheet.\n",
    "   # \"\"\"\n",
    "#    scope = ['https://spreadsheets.google.com/feeds','https://www.googleapis.com/auth/drive']\n",
    "#    creds = ServiceAccountCredentials.from_json_keyfile_name('db/reefer.json', scope)\n",
    "#    client = gspread.authorize(creds)\n",
    "#    sheet = client.open('Warehousing Sheet Data Feed')\n",
    "#    data = sheet.worksheet('EXPORT')\n",
    "#    trucks = data.get_all_values()\n",
    "#    return trucks\n",
    "\n",
    "\n",
    "loadlist = extr.get_trucks_data('Warehousing Sheet Data Feed', 'RL_LoadOnly')\n",
    "\n",
    "start = 499\n",
    "loads = loadlist[start]\n",
    "\n",
    "\n",
    "print(loads)\n",
    "\n",
    "# constant to establish download folder path, only need to change this to change location\n",
    "DOWNLOAD_FOLDER = r\"C:\\Users\\boa.sokchu\\Downloads\"\n",
    "\n",
    "# list of files before downloading\n",
    "before = os.listdir(DOWNLOAD_FOLDER)\n",
    "\n",
    "# activate chrome driver\n",
    "browser = webdriver.Chrome()\n",
    "browser.maximize_window()\n",
    "browser.get(\"https://boa.3plsystemscloud.com/\")\n",
    "\n",
    "# page elements to login\n",
    "boa_user = browser.find_element_by_id(\"txb-username\")\n",
    "boa_pw = browser.find_element_by_id(\"txb-password\")\n",
    "login_button = browser.find_element_by_id(\"ctl00_ContentBody_butLogin\")\n",
    "\n",
    "# login credentials\n",
    "boa_user.send_keys(\"sokchu@boalogistics.com\")\n",
    "boa_pw.send_keys(\"Immuneact10!\")\n",
    "login_button.click()\n",
    "\n",
    "# enter report code into report_code variable\n",
    "# \"New_Carrier\" report\n",
    "report_code = \"7076EB71CCDC\"\n",
    "url = \"https://boa.3plsystemscloud.com/App_BW/staff/Reports/ReportViewer.aspx?code=\"+report_code\n",
    "browser.get(url)\n",
    "\n",
    "# sets up start date and end date for filter\n",
    "# checks today's date to calculate next 2 business days\n",
    "\n",
    "today = date.today()\n",
    "weekday = datetime.weekday(today)\n",
    "week = str(today.isocalendar()[1])\n",
    "\n",
    "# set up variables for parameter fields\n",
    "startbox = browser.find_element_by_xpath(\"//td[3]/input[@class='filter'][1]\")\n",
    "endbox = browser.find_element_by_xpath(\"//td[3]/input[@class='filter'][1]\")\n",
    "\n",
    "#/html/body/form/div[3]/div[2]/div[1]/div[1]/table/tbody/tr[3]/td[3]/input\n",
    "#//*[@id=\"table-wherevalue\"]/td[1]/input[1]\n",
    "#//*[@id=\"table-wherevalue\"]/td[3]/input\n",
    "\n",
    "#startbox = browser.find_element_by_xpath(\"//td[1]/input[@class='in'][1]\")\n",
    "#endbox = browser.find_element_by_xpath(\"//td[1]/input[@class='in'][1]\")\n",
    "\n",
    "# inserts new parameters\n",
    "startbox.clear()\n",
    "startbox.send_keys(loads)\n",
    "time.sleep(5)\n",
    "\n",
    "\n",
    "# save & view report, then download\n",
    "save_button = browser.find_element_by_id(\"ctl00_ContentBody_butSaveView\").click()\n",
    "browser.implicitly_wait(3)\n",
    "download = browser.find_element_by_id(\"ctl00_ContentBody_butExportToExcel\").click()\n",
    "\n",
    "#need to wait a few seconds before continuing to allow for file to finish downloading.\n",
    "time.sleep(3)\n",
    "\n",
    "browser.quit()\n",
    "\n",
    "#compares list of files in Downloads folder after downloading file to extract filename\n",
    "after = os.listdir(DOWNLOAD_FOLDER)\n",
    "change = set(after) - set(before)\n",
    "\n",
    "if len(change) == 1:\n",
    "    file_name = change.pop()\n",
    "    print(file_name + \" downloaded.\")\n",
    "else:\n",
    "    print (\"More than one file or no file downloaded\")\n",
    "    \n",
    "    \n",
    "output_path = DOWNLOAD_FOLDER + \"\\\\\" + file_name\n",
    "\n",
    "# Pass arguments below in following order: To Address, Subject, Email Body, Path to file to attach\n",
    "send_email('wlopes@boalogistics.com, allenj@boalogistics.com, julie@boalogistics.com, data@boalogistics.com , sokchu@boalogistics.com',\n",
    "           'Cariers Not Assigned Week ' + week,\n",
    "           'Good Morning,\\n\\nPlease see attached report for loads without carriers assigned.\\n\\nThank you,\\n\\nSokchu Hwang',output_path)"
   ]
  },
  {
   "cell_type": "code",
   "execution_count": null,
   "metadata": {},
   "outputs": [],
   "source": []
  },
  {
   "cell_type": "code",
   "execution_count": 37,
   "metadata": {},
   "outputs": [
    {
     "data": {
      "text/plain": [
       "33"
      ]
     },
     "execution_count": 37,
     "metadata": {},
     "output_type": "execute_result"
    }
   ],
   "source": [
    "today.isocalendar()[1]"
   ]
  },
  {
   "cell_type": "code",
   "execution_count": null,
   "metadata": {},
   "outputs": [],
   "source": []
  }
 ],
 "metadata": {
  "kernelspec": {
   "display_name": "Python 3",
   "language": "python",
   "name": "python3"
  },
  "language_info": {
   "codemirror_mode": {
    "name": "ipython",
    "version": 3
   },
   "file_extension": ".py",
   "mimetype": "text/x-python",
   "name": "python",
   "nbconvert_exporter": "python",
   "pygments_lexer": "ipython3",
   "version": "3.8.1"
  }
 },
 "nbformat": 4,
 "nbformat_minor": 4
}
