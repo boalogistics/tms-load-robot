{
 "cells": [
  {
   "cell_type": "code",
   "execution_count": 1,
   "metadata": {},
   "outputs": [
    {
     "name": "stdout",
     "output_type": "stream",
     "text": [
      "1\n",
      "1\n",
      "1\n",
      "5\n",
      "1\n",
      "email sent\n"
     ]
    },
    {
     "data": {
      "text/plain": [
       "True"
      ]
     },
     "execution_count": 1,
     "metadata": {},
     "output_type": "execute_result"
    }
   ],
   "source": [
    "import win32com.client\n",
    "from datetime import date, datetime\n",
    "import pandas as pd\n",
    "import openpyxl\n",
    "from outlook_send import send_email\n",
    "\n",
    "\n",
    "# Get today's date and time\n",
    "today = date.today()\n",
    "now = datetime.now()\n",
    "now_str = str(now)[0:16]\n",
    "\n",
    "# Open Outlook\n",
    "outlook=win32com.client.Dispatch(\"Outlook.Application\").GetNameSpace(\"MAPI\")\n",
    "\n",
    "# Grab Specific Folder - inbox=outlook.GetDefaultFolder(6) #Inbox default index value is 6\n",
    "JosephPending=outlook.GetDefaultFolder(6).Folders.Item(\"Orders sent to Joseph\")\n",
    "\n",
    "\n",
    "\n",
    "numloads = []\n",
    "revloads = []\n",
    "subject = []\n",
    "# Access Subject, Date, Body, etc.\n",
    "emails=JosephPending.Items\n",
    "message=emails.GetLast()\n",
    "for message in emails:\n",
    "    #if message.senton.date() == today:\n",
    "    subject.append(message.subject)\n",
    "    \n",
    "    if message.subject[0].isnumeric() == 1:\n",
    "        load = int(message.subject[0:2])\n",
    "        print(load)\n",
    "        numloads.append(load)\n",
    "    else:\n",
    "        rev = message.subject[0]\n",
    "        revloads.append(rev)\n",
    "loadqueue = sum(numloads)\n",
    "revqueue = len(revloads)\n",
    "\n",
    "df = pd.DataFrame(subject,columns=['Pending Emails'])\n",
    "pending = df.to_string(index = False)\n",
    "\n",
    "\n",
    "# Pass arguments below in following order: To Address, Subject, Email Body, Path to file to attach\n",
    "# data@boalogistics.com, orderentry@boalogistics.com,  kris.uba@bigoutsource.com, ashley.poscablo@bigoutsource.com, casey@boalogistics.com, daigo@boalogistics.com\n",
    "send_email('sokchu@boalogistics.com,data@boalogistics.com, orderentry@boalogistics.com,  kris.uba@bigoutsource.com, ashley.poscablo@bigoutsource.com, casey@boalogistics.com, daigo@boalogistics.com',\n",
    "         'Current Entry Queue Report ' + str(today) + \" @ \" + now_str,\n",
    "         'Hello Team,\\n\\nPlease see current entry queue.\\n\\nPending Loads: ' + str(loadqueue) + '\\nRevisions: '+ str(revqueue) + '\\n\\n\\n' + pending +'\\n\\nThank you,\\n\\nSokchu Hwang')\n"
   ]
  },
  {
   "cell_type": "code",
   "execution_count": null,
   "metadata": {},
   "outputs": [],
   "source": []
  },
  {
   "cell_type": "code",
   "execution_count": null,
   "metadata": {},
   "outputs": [],
   "source": []
  }
 ],
 "metadata": {
  "kernelspec": {
   "display_name": "Python 3",
   "language": "python",
   "name": "python3"
  },
  "language_info": {
   "codemirror_mode": {
    "name": "ipython",
    "version": 3
   },
   "file_extension": ".py",
   "mimetype": "text/x-python",
   "name": "python",
   "nbconvert_exporter": "python",
   "pygments_lexer": "ipython3",
   "version": "3.8.1"
  }
 },
 "nbformat": 4,
 "nbformat_minor": 4
}
