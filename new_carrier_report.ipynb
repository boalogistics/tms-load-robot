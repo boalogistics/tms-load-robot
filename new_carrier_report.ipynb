{
 "cells": [
  {
   "cell_type": "code",
   "execution_count": 4,
   "metadata": {},
   "outputs": [
    {
     "name": "stdout",
     "output_type": "stream",
     "text": [
      "NewCarrierReport20210823.xls downloaded.\n",
      "Saved file to C:\\Users\\boa.sokchu\\Downloads\\REVISEDNewCarrierReport20210823.xls.xlsx!\n",
      "email sent\n"
     ]
    },
    {
     "data": {
      "text/plain": [
       "True"
      ]
     },
     "execution_count": 4,
     "metadata": {},
     "output_type": "execute_result"
    }
   ],
   "source": [
    "from selenium import webdriver\n",
    "from datetime import date, datetime, timedelta\n",
    "import time\n",
    "import os\n",
    "import pandas as pd\n",
    "from outlook_send import send_email\n",
    "\n",
    "from IPython.display import display, HTML\n",
    "\n",
    "# constant to establish download folder path, only need to change this to change location\n",
    "DOWNLOAD_FOLDER = r\"C:\\Users\\boa.sokchu\\Downloads\"\n",
    "\n",
    "# list of files before downloading\n",
    "before = os.listdir(DOWNLOAD_FOLDER)\n",
    "\n",
    "# activate chrome driver\n",
    "browser = webdriver.Chrome()\n",
    "browser.maximize_window()\n",
    "browser.get(\"https://boa.3plsystemscloud.com/\")\n",
    "\n",
    "# page elements to login\n",
    "boa_user = browser.find_element_by_id(\"txb-username\")\n",
    "boa_pw = browser.find_element_by_id(\"txb-password\")\n",
    "login_button = browser.find_element_by_id(\"ctl00_ContentBody_butLogin\")\n",
    "\n",
    "# login credentials\n",
    "boa_user.send_keys(\"sokchu@boalogistics.com\")\n",
    "boa_pw.send_keys(\"Immuneact10!\")\n",
    "login_button.click()\n",
    "\n",
    "# enter report code into report_code variable\n",
    "# \"New_Carrier\" report\n",
    "report_code = \"35D341379474\"\n",
    "url = \"https://boa.3plsystemscloud.com/App_BW/staff/Reports/ReportViewer.aspx?code=\"+report_code\n",
    "browser.get(url)\n",
    "\n",
    "# sets up start date and end date for filter\n",
    "# checks today's date to calculate next 2 business days\n",
    "\n",
    "today = date.today()\n",
    "weekday = datetime.weekday(today)\n",
    "lastweek = 7\n",
    "yesterday = 1\n",
    "\n",
    "s_date = today - timedelta(lastweek)\n",
    "e_date = today - timedelta(yesterday)\n",
    "\n",
    "start = s_date.strftime(\"%m/%d/%Y 00:00:00\")\n",
    "end = e_date.strftime(\"%m/%d/%Y 23:59:59\")\n",
    "\n",
    "# for manually pulling specific weeks\n",
    "\n",
    "#start = s_date.strftime(\"05/24/2021 00:00:00\")\n",
    "#end = e_date.strftime(\"05/30/2021 23:59:59\")\n",
    "\n",
    "# set up variables for parameter fields\n",
    "startbox = browser.find_element_by_xpath(\"//td[4]/input[@class='filter between'][1]\")\n",
    "endbox = browser.find_element_by_xpath(\"//td[4]/input[@class='filter between'][2]\")\n",
    "\n",
    "\n",
    "# inserts new parameters\n",
    "startbox.clear()\n",
    "startbox.send_keys(start)\n",
    "endbox.clear()\n",
    "endbox.send_keys(end)\n",
    "\n",
    "# save & view report, then download\n",
    "save_button = browser.find_element_by_id(\"ctl00_ContentBody_butSaveView\").click()\n",
    "browser.implicitly_wait(3)\n",
    "download = browser.find_element_by_id(\"ctl00_ContentBody_butExportToExcel\").click()\n",
    "\n",
    "#need to wait a few seconds before continuing to allow for file to finish downloading.\n",
    "time.sleep(3)\n",
    "\n",
    "browser.quit()\n",
    "\n",
    "#compares list of files in Downloads folder after downloading file to extract filename\n",
    "after = os.listdir(DOWNLOAD_FOLDER)\n",
    "change = set(after) - set(before)\n",
    "\n",
    "if len(change) == 1:\n",
    "    file_name = change.pop()\n",
    "    print(file_name + \" downloaded.\")\n",
    "else:\n",
    "    print (\"More than one file or no file downloaded\")\n",
    "    \n",
    "# sets filepath to downloaded file and create DataFrame from file \n",
    "# *output file extension is .xls but is actually.html format\n",
    "\n",
    "filepath = DOWNLOAD_FOLDER + \"\\\\\" + file_name\n",
    "data = pd.read_html(filepath)\n",
    "df = data[0]\n",
    "\n",
    "# list of substring to look for\n",
    "\n",
    "sub = '_'\n",
    "sub2 = 'YP_'\n",
    "sub3 = 'YV_'\n",
    "sub4 = 'DS_'\n",
    "\n",
    "carrier_name = df[df['Carrier Name'].str.startswith(sub2, na=False) | df['Carrier Name'].str.startswith(sub3, na=False) | df['Carrier Name'].str.startswith(sub4, na=False)]\n",
    "\n",
    "#print(carrier_name)\n",
    "\n",
    "df = carrier_name\n",
    "\n",
    "#saves as .xlsx file\n",
    "\n",
    "output_path = DOWNLOAD_FOLDER + \"\\\\\" + \"REVISED\" + file_name + \".xlsx\"\n",
    "\n",
    "writer = pd.ExcelWriter(output_path, engine=\"xlsxwriter\")\n",
    "df.to_excel(writer, sheet_name='DAILYREPORT')\n",
    "writer.save()\n",
    "\n",
    "print(\"Saved file to \" + output_path + \"!\")\n",
    "\n",
    "# Pass arguments below in following order: To Address, Subject, Email Body, Path to file to attach\n",
    "send_email('Jenny@boalogistics.com, data@boalogistics.com ',\n",
    "           'New Carriers ' + start[0:10] + ' - ' + end[0:10],\n",
    "           'Good Morning Jennifer,\\n\\nPlease see attached report for new carriers added by Carrier Sales last week.\\n\\nThank you,\\n\\nSokchu Hwang',output_path)"
   ]
  },
  {
   "cell_type": "code",
   "execution_count": null,
   "metadata": {},
   "outputs": [],
   "source": [
    "\n",
    "       "
   ]
  },
  {
   "cell_type": "code",
   "execution_count": 5,
   "metadata": {},
   "outputs": [
    {
     "data": {
      "text/plain": [
       "'08/13/2021'"
      ]
     },
     "execution_count": 5,
     "metadata": {},
     "output_type": "execute_result"
    }
   ],
   "source": [
    "today.strftime(\"%m/%d/%Y\")"
   ]
  },
  {
   "cell_type": "code",
   "execution_count": null,
   "metadata": {},
   "outputs": [],
   "source": []
  },
  {
   "cell_type": "code",
   "execution_count": null,
   "metadata": {},
   "outputs": [],
   "source": []
  },
  {
   "cell_type": "code",
   "execution_count": null,
   "metadata": {},
   "outputs": [],
   "source": []
  }
 ],
 "metadata": {
  "kernelspec": {
   "display_name": "Python 3",
   "language": "python",
   "name": "python3"
  },
  "language_info": {
   "codemirror_mode": {
    "name": "ipython",
    "version": 3
   },
   "file_extension": ".py",
   "mimetype": "text/x-python",
   "name": "python",
   "nbconvert_exporter": "python",
   "pygments_lexer": "ipython3",
   "version": "3.8.1"
  }
 },
 "nbformat": 4,
 "nbformat_minor": 4
}
