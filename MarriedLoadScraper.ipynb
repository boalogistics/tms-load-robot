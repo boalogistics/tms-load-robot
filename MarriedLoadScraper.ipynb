{
 "cells": [
  {
   "cell_type": "code",
   "execution_count": 4,
   "metadata": {},
   "outputs": [
    {
     "name": "stdout",
     "output_type": "stream",
     "text": [
      "16\n",
      "Trucks updated!\n"
     ]
    }
   ],
   "source": [
    "import getpass\n",
    "import os\n",
    "import time\n",
    "import pandas as pd\n",
    "from selenium.webdriver.support.ui import WebDriverWait\n",
    "import tms_login as tms\n",
    "from data_extract import open_sheet\n",
    "import gspread\n",
    "\n",
    "#TODO rename sheet to proper name\n",
    "#writer = ExcelWriter('2020 Truck Data 1-27.xlsx')\n",
    "SRC = open_sheet('2020 Married Load Data', 'SRC')\n",
    "\n",
    "week = 16\n",
    "\n",
    "while week <= 16:\n",
    "    if week < 10:\n",
    "        week_str = str(0) + str(week)\n",
    "        print(week_str)\n",
    "       \n",
    "    else:\n",
    "        week_str = str(week)\n",
    "        print(week_str)\n",
    "        \n",
    "    SRC.update_cell(1,1,'=importrange(\"1fJkvQ9F9iBNOTc5gdWL-5WpzZzJiIKUNdnNb-WQG588\", \"Week ' + week_str + ' Delivery Schedule!A1:W1580\")')\n",
    "    #2020 1 - 27: 1km8tESc_G2QBO_3NYhvdMFS3UbG3m78O4pck6Op970Q\n",
    "    #2020 28 - 53: 1GiM30Yj5caKg-PjfiihEXfDRxpbGavbX7Xe58lFyRF8\n",
    "    #2021 1 - 21: 1fJkvQ9F9iBNOTc5gdWL-5WpzZzJiIKUNdnNb-WQG588\n",
    "    #Cuurent RL: 1ofT7VeSjD9GxvLtjLqpaLt0w1btjRhmH8PeAgjXjyLk\n",
    "    time.sleep(5)\n",
    "    data = pd.DataFrame(SRC.get_all_values())\n",
    "    data.to_excel('2021 Truck Data Week ' + week_str + '.xlsx',index = False, header = False)\n",
    "    week += 1\n",
    "    \n",
    "#Test.update_cell(1,1,'=importrange(\"1km8tESc_G2QBO_3NYhvdMFS3UbG3m78O4pck6Op970Q\", \"Week 01 Delivery Schedule!A1:W1580\")')\n",
    "\n",
    "\n",
    "print('Trucks updated!')\n",
    "\n",
    "#os.startfile('2020 Truck Data Week ' + week_str + '.xlsx')"
   ]
  },
  {
   "cell_type": "code",
   "execution_count": 19,
   "metadata": {},
   "outputs": [],
   "source": []
  },
  {
   "cell_type": "code",
   "execution_count": null,
   "metadata": {},
   "outputs": [],
   "source": []
  }
 ],
 "metadata": {
  "kernelspec": {
   "display_name": "Python 3",
   "language": "python",
   "name": "python3"
  },
  "language_info": {
   "codemirror_mode": {
    "name": "ipython",
    "version": 3
   },
   "file_extension": ".py",
   "mimetype": "text/x-python",
   "name": "python",
   "nbconvert_exporter": "python",
   "pygments_lexer": "ipython3",
   "version": "3.8.1"
  }
 },
 "nbformat": 4,
 "nbformat_minor": 4
}
