{
 "cells": [
  {
   "cell_type": "code",
   "execution_count": 6,
   "metadata": {},
   "outputs": [
    {
     "name": "stdout",
     "output_type": "stream",
     "text": [
      "22\n",
      "23\n",
      "24\n",
      "25\n",
      "26\n",
      "27\n",
      "28\n",
      "29\n",
      "30\n",
      "31\n",
      "32\n",
      "33\n",
      "34\n",
      "Pick Up Data updated!\n"
     ]
    }
   ],
   "source": [
    "#Checks Local Reefer Sheet vs TMS to see if Pick Up Cost available but not entered into TMS\n",
    "#Report Designed for: AP\n",
    "\n",
    "import getpass\n",
    "import os\n",
    "import time\n",
    "import pandas as pd\n",
    "from selenium.webdriver.support.ui import WebDriverWait\n",
    "import tms_login as tms\n",
    "from data_extract import open_sheet\n",
    "import gspread\n",
    "\n",
    "\n",
    "\n",
    "#Assign Week\n",
    "week = 22\n",
    "CurrentWeek = 34\n",
    "\n",
    "#Open Data Sheet & Update Cell A1\n",
    "SRC = open_sheet('Pick Up Data Feed', 'src')\n",
    "\n",
    "while week <= CurrentWeek:\n",
    "    if week < 10:\n",
    "        week_str = str(0) + str(week)\n",
    "        print(week_str)\n",
    "       \n",
    "    else:\n",
    "        week_str = str(week)\n",
    "        print(week_str)\n",
    "        \n",
    "        \n",
    "    SRC.update_cell(1,1,'=importrange(\"1rkuJ49j13NG26sKfHwQdnCefG1ZgbgHwHo4dQhi5HUg\", \"Week ' + week_str + '!A1:U1000\")')\n",
    "\n",
    "    #Open Query Sheet & Save\n",
    "    QRY = open_sheet('Pick Up Data Feed', 'Query')\n",
    "    \n",
    "    #Wait for sheet to Load\n",
    "    time.sleep(5)\n",
    "    data = pd.DataFrame(QRY.get_all_values())\n",
    "    data.to_excel('2021 Local Pick Up Data Week ' + week_str + '.xlsx',index = False, header = False, sheet_name = 'Week ' + week_str)\n",
    "    week += 1\n",
    "    \n",
    "\n",
    "\n",
    "print('Pick Up Data updated!')"
   ]
  },
  {
   "cell_type": "code",
   "execution_count": null,
   "metadata": {},
   "outputs": [],
   "source": []
  }
 ],
 "metadata": {
  "kernelspec": {
   "display_name": "Python 3",
   "language": "python",
   "name": "python3"
  },
  "language_info": {
   "codemirror_mode": {
    "name": "ipython",
    "version": 3
   },
   "file_extension": ".py",
   "mimetype": "text/x-python",
   "name": "python",
   "nbconvert_exporter": "python",
   "pygments_lexer": "ipython3",
   "version": "3.8.1"
  }
 },
 "nbformat": 4,
 "nbformat_minor": 4
}
