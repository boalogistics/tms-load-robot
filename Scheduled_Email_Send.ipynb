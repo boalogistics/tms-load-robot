{
 "cells": [
  {
   "cell_type": "code",
   "execution_count": 3,
   "metadata": {},
   "outputs": [
    {
     "name": "stdout",
     "output_type": "stream",
     "text": [
      "email sent\n",
      "email sent\n",
      "email sent\n",
      "SMTP server connection error\n",
      "email sent\n",
      "email sent\n",
      "email sent\n"
     ]
    },
    {
     "ename": "KeyboardInterrupt",
     "evalue": "",
     "output_type": "error",
     "traceback": [
      "\u001b[1;31m---------------------------------------------------------------------------\u001b[0m",
      "\u001b[1;31mKeyboardInterrupt\u001b[0m                         Traceback (most recent call last)",
      "\u001b[1;32m<ipython-input-3-675cad791472>\u001b[0m in \u001b[0;36m<module>\u001b[1;34m\u001b[0m\n\u001b[0;32m    109\u001b[0m \u001b[1;33m\u001b[0m\u001b[0m\n\u001b[0;32m    110\u001b[0m \u001b[1;32mwhile\u001b[0m \u001b[0mnow\u001b[0m \u001b[1;33m>\u001b[0m \u001b[1;36m8\u001b[0m \u001b[1;33m&\u001b[0m \u001b[0mnow\u001b[0m \u001b[1;33m<\u001b[0m \u001b[1;36m17\u001b[0m\u001b[1;33m:\u001b[0m\u001b[1;33m\u001b[0m\u001b[1;33m\u001b[0m\u001b[0m\n\u001b[1;32m--> 111\u001b[1;33m     \u001b[0mschedule\u001b[0m\u001b[1;33m.\u001b[0m\u001b[0mrun_pending\u001b[0m\u001b[1;33m(\u001b[0m\u001b[1;33m)\u001b[0m\u001b[1;33m\u001b[0m\u001b[1;33m\u001b[0m\u001b[0m\n\u001b[0m\u001b[0;32m    112\u001b[0m \u001b[1;33m\u001b[0m\u001b[0m\n\u001b[0;32m    113\u001b[0m \u001b[1;33m\u001b[0m\u001b[0m\n",
      "\u001b[1;32m~\\Documents\\LocalBobtail\\WPy64-3810\\python-3.8.1.amd64\\lib\\site-packages\\schedule\\__init__.py\u001b[0m in \u001b[0;36mrun_pending\u001b[1;34m()\u001b[0m\n\u001b[0;32m    778\u001b[0m     \u001b[1;33m:\u001b[0m\u001b[0mdata\u001b[0m\u001b[1;33m:\u001b[0m\u001b[0;31m`\u001b[0m\u001b[0mdefault\u001b[0m \u001b[0mscheduler\u001b[0m \u001b[0minstance\u001b[0m \u001b[1;33m<\u001b[0m\u001b[0mdefault_scheduler\u001b[0m\u001b[1;33m>\u001b[0m\u001b[0;31m`\u001b[0m\u001b[1;33m.\u001b[0m\u001b[1;33m\u001b[0m\u001b[1;33m\u001b[0m\u001b[0m\n\u001b[0;32m    779\u001b[0m     \"\"\"\n\u001b[1;32m--> 780\u001b[1;33m     \u001b[0mdefault_scheduler\u001b[0m\u001b[1;33m.\u001b[0m\u001b[0mrun_pending\u001b[0m\u001b[1;33m(\u001b[0m\u001b[1;33m)\u001b[0m\u001b[1;33m\u001b[0m\u001b[1;33m\u001b[0m\u001b[0m\n\u001b[0m\u001b[0;32m    781\u001b[0m \u001b[1;33m\u001b[0m\u001b[0m\n\u001b[0;32m    782\u001b[0m \u001b[1;33m\u001b[0m\u001b[0m\n",
      "\u001b[1;32m~\\Documents\\LocalBobtail\\WPy64-3810\\python-3.8.1.amd64\\lib\\site-packages\\schedule\\__init__.py\u001b[0m in \u001b[0;36mrun_pending\u001b[1;34m(self)\u001b[0m\n\u001b[0;32m     96\u001b[0m         \u001b[0mbetween\u001b[0m \u001b[0mbut\u001b[0m \u001b[0monly\u001b[0m \u001b[0monce\u001b[0m\u001b[1;33m.\u001b[0m\u001b[1;33m\u001b[0m\u001b[1;33m\u001b[0m\u001b[0m\n\u001b[0;32m     97\u001b[0m         \"\"\"\n\u001b[1;32m---> 98\u001b[1;33m         \u001b[0mrunnable_jobs\u001b[0m \u001b[1;33m=\u001b[0m \u001b[1;33m(\u001b[0m\u001b[0mjob\u001b[0m \u001b[1;32mfor\u001b[0m \u001b[0mjob\u001b[0m \u001b[1;32min\u001b[0m \u001b[0mself\u001b[0m\u001b[1;33m.\u001b[0m\u001b[0mjobs\u001b[0m \u001b[1;32mif\u001b[0m \u001b[0mjob\u001b[0m\u001b[1;33m.\u001b[0m\u001b[0mshould_run\u001b[0m\u001b[1;33m)\u001b[0m\u001b[1;33m\u001b[0m\u001b[1;33m\u001b[0m\u001b[0m\n\u001b[0m\u001b[0;32m     99\u001b[0m         \u001b[1;32mfor\u001b[0m \u001b[0mjob\u001b[0m \u001b[1;32min\u001b[0m \u001b[0msorted\u001b[0m\u001b[1;33m(\u001b[0m\u001b[0mrunnable_jobs\u001b[0m\u001b[1;33m)\u001b[0m\u001b[1;33m:\u001b[0m\u001b[1;33m\u001b[0m\u001b[1;33m\u001b[0m\u001b[0m\n\u001b[0;32m    100\u001b[0m             \u001b[0mself\u001b[0m\u001b[1;33m.\u001b[0m\u001b[0m_run_job\u001b[0m\u001b[1;33m(\u001b[0m\u001b[0mjob\u001b[0m\u001b[1;33m)\u001b[0m\u001b[1;33m\u001b[0m\u001b[1;33m\u001b[0m\u001b[0m\n",
      "\u001b[1;31mKeyboardInterrupt\u001b[0m: "
     ]
    }
   ],
   "source": [
    "import schedule \n",
    "import time\n",
    "#import Need2Input_Revision as Need\n",
    "from datetime import date, datetime\n",
    "\n",
    "import win32com.client\n",
    "from datetime import date, datetime\n",
    "import pandas as pd\n",
    "import openpyxl\n",
    "from outlook_send import send_email\n",
    "\n",
    "def PendingEntry():\n",
    "    #Get today's date and time\n",
    "    today = date.today()\n",
    "    now = datetime.now()\n",
    "    now_str = str(now)[0:16]\n",
    "    #Open Outlook\n",
    "    outlook=win32com.client.Dispatch(\"Outlook.Application\").GetNameSpace(\"MAPI\")\n",
    "\n",
    "    #Grab Specific Folder\n",
    "    #inbox=outlook.GetDefaultFolder(6) #Inbox default index value is 6\n",
    "    Need2Input=outlook.GetDefaultFolder(6).Folders.Item(\"Need to Input\")\n",
    "    Revision=outlook.GetDefaultFolder(6).Folders.Item(\"Revisions\")\n",
    "\n",
    "    #Count Items in Inbox\n",
    "    #N2I_count = Need2Input.Items.Count\n",
    "    #Rev_count = Revision.Items.Count\n",
    "\n",
    "    #print(N2I_count)\n",
    "    #print(Rev_count)\n",
    "\n",
    "\n",
    "    #Access Subject, Date, Body, etc.\n",
    "    N2I_message=Need2Input.Items\n",
    "    message=N2I_message.GetLast()\n",
    "\n",
    "    Rev_message=Revision.Items\n",
    "    message2=Rev_message.GetLast()\n",
    "\n",
    "\n",
    "\n",
    "    #item_count = message2.Items.Count\n",
    "    #subject=message2.Subject\n",
    "    #body=message2.body\n",
    "    #date=message2.senton.date()\n",
    "    #sender=message2.Sender\n",
    "    #attachments=message2.Attachments\n",
    "    #print(item_count)\n",
    "\n",
    "    #Create Excel Sheet\n",
    "    fname = 'PendingEntry.xlsx'\n",
    "    f = open(fname,'w+')\n",
    "    f.write(\"Need to Input\\n\")\n",
    "\n",
    "    #Iterate for items in folder with specific condition\n",
    "    #print('\\nNeed to Input')\n",
    "    for message in N2I_message:\n",
    "        #if message.senton.date() == today:\n",
    "        #print(message.subject)\n",
    "\n",
    "        f.write(message.subject.replace(',','&') + '\\n')\n",
    "        #print(message.senton.date())\n",
    "        #print(message.senton.time())\n",
    "\n",
    "    f.close()\n",
    "\n",
    "    #drop duplicates\n",
    "    N2I_data = pd.read_csv('PendingEntry.xlsx')\n",
    "    upper_data = N2I_data.apply(lambda x: x.astype(str).str.upper())\n",
    "    new_data = upper_data.drop_duplicates()\n",
    "    hide_data = new_data.to_string(index=False)\n",
    "    #print(hide_data)\n",
    "\n",
    "\n",
    "    #Create Excel Sheet\n",
    "    fname = 'Revision.xlsx'\n",
    "    f = open(fname,'w+')\n",
    "    f.write(\"\\n\\nRevisions\\n\")\n",
    "    #print('\\nRevisions') \n",
    "    for message2 in Rev_message:\n",
    "        #if message.senton.date() == today:\n",
    "        f.write(message2.subject.replace(',','&') + '\\n')\n",
    "        #print(message2.subject)\n",
    "\n",
    "    f.close()\n",
    "\n",
    "    #drop duplicates\n",
    "    Rev_data = pd.read_csv('Revision.xlsx')\n",
    "    upper_data2 = Rev_data.apply(lambda x: x.astype(str).str.upper())\n",
    "    new_data2 = upper_data2.drop_duplicates()\n",
    "    hide_data2 = new_data2.to_string(index=False)\n",
    "    #print(hide_data2)\n",
    "\n",
    "    N2I_count = len(new_data)\n",
    "    Rev_count = len(new_data2)\n",
    "\n",
    "    # Pass arguments below in following order: To Address, Subject, Email Body, Path to file to attach\n",
    "    send_email('sokchu@boalogistics.com, data@boalogistics.com , reefer@boalogistics.com, julie@boalogistics.com, daigo@boalogistics.com, wlopes@boalogistics.com, mmugar@boalogistics.com',\n",
    "               'Pending Entry Report ' + now_str,\n",
    "               'Hello Team,\\n\\nPlease see current entry queue.\\n\\nNew Orders: ' + str(N2I_count) + '\\n\\nRevisions: '+ str(Rev_count) + '\\n\\n' + hide_data + '\\n\\n\\n' + hide_data2 + '\\n\\n Thank you,\\n\\nSokchu Hwang')\n",
    "\n",
    "\n",
    "now_str = str(datetime.now())[11:13]\n",
    "now = int(now_str)\n",
    "    \n",
    "schedule.every(30).minutes.do(PendingEntry)\n",
    "\n",
    "while now > 8 & now < 17:\n",
    "    schedule.run_pending()\n",
    "    \n",
    "    "
   ]
  },
  {
   "cell_type": "code",
   "execution_count": 27,
   "metadata": {},
   "outputs": [
    {
     "data": {
      "text/plain": [
       "14"
      ]
     },
     "execution_count": 27,
     "metadata": {},
     "output_type": "execute_result"
    }
   ],
   "source": [
    "now"
   ]
  },
  {
   "cell_type": "code",
   "execution_count": null,
   "metadata": {},
   "outputs": [],
   "source": []
  }
 ],
 "metadata": {
  "kernelspec": {
   "display_name": "Python 3",
   "language": "python",
   "name": "python3"
  },
  "language_info": {
   "codemirror_mode": {
    "name": "ipython",
    "version": 3
   },
   "file_extension": ".py",
   "mimetype": "text/x-python",
   "name": "python",
   "nbconvert_exporter": "python",
   "pygments_lexer": "ipython3",
   "version": "3.8.1"
  }
 },
 "nbformat": 4,
 "nbformat_minor": 4
}
