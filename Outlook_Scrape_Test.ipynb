{
 "cells": [
  {
   "cell_type": "code",
   "execution_count": 36,
   "metadata": {},
   "outputs": [
    {
     "name": "stdout",
     "output_type": "stream",
     "text": [
      "F\n",
      "2021-07-01\n",
      "08:24:26\n",
      "F\n",
      "2021-07-01\n",
      "08:29:32\n",
      "F\n",
      "2021-07-01\n",
      "08:29:48\n",
      "R\n",
      "2021-07-01\n",
      "08:32:59\n",
      "3\n",
      "2021-07-01\n",
      "08:59:44\n",
      "F\n",
      "2021-07-01\n",
      "09:15:17\n",
      "F\n",
      "2021-07-01\n",
      "09:22:50\n"
     ]
    }
   ],
   "source": [
    "import win32com.client\n",
    "from datetime import date\n",
    "\n",
    "#Get today's date\n",
    "today = date.today()\n",
    "\n",
    "#Open Outlook\n",
    "outlook=win32com.client.Dispatch(\"Outlook.Application\").GetNameSpace(\"MAPI\")\n",
    "\n",
    "#Grab Specific Folder\n",
    "#inbox=outlook.GetDefaultFolder(6) #Inbox default index value is 6\n",
    "inbox=outlook.GetDefaultFolder(6).Folders.Item(\"Orders Sent to Joseph\")\n",
    "\n",
    "#Count Items in Inbox\n",
    "item_count = inbox.Items.Count\n",
    "\n",
    "#Access Subject, Date, Body, etc.\n",
    "message=inbox.Items\n",
    "message2=message.GetFirst()\n",
    "#item_count = message2.Items.Count\n",
    "#subject=message2.Subject\n",
    "#body=message2.body\n",
    "#date=message2.senton.date()\n",
    "#sender=message2.Sender\n",
    "#attachments=message2.Attachments\n",
    "#print(item_count)\n",
    "\n",
    "#Iterate for items in folder with specific condition\n",
    "for message2 in message:\n",
    "    if message2.senton.date() == today:\n",
    "        print(message2.subject[0])\n",
    "        print(message2.senton.date())\n",
    "        print(message2.senton.time())"
   ]
  },
  {
   "cell_type": "code",
   "execution_count": null,
   "metadata": {},
   "outputs": [],
   "source": []
  }
 ],
 "metadata": {
  "kernelspec": {
   "display_name": "Python 3",
   "language": "python",
   "name": "python3"
  },
  "language_info": {
   "codemirror_mode": {
    "name": "ipython",
    "version": 3
   },
   "file_extension": ".py",
   "mimetype": "text/x-python",
   "name": "python",
   "nbconvert_exporter": "python",
   "pygments_lexer": "ipython3",
   "version": "3.8.1"
  }
 },
 "nbformat": 4,
 "nbformat_minor": 4
}
