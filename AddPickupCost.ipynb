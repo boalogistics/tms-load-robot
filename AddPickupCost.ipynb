{
 "cells": [
  {
   "cell_type": "code",
   "execution_count": 27,
   "metadata": {},
   "outputs": [
    {
     "name": "stdout",
     "output_type": "stream",
     "text": [
      "Pickup accesorial already added or Invoice Created/\n",
      "194782 Pick Up Cost added: $171.43\n",
      "Pickup accesorial already added or Invoice Created/\n",
      "194783 - Error: AR Invoice possibly exists.\n",
      "Pickup accesorial already added or Invoice Created/\n",
      "194784 Pick Up Cost added: $171.43\n",
      "Pickup accesorial already added or Invoice Created/\n",
      "194714 - Error: AR Invoice possibly exists.\n",
      "Pickup accesorial already added or Invoice Created/\n",
      "194948 Pick Up Cost added: $37.5\n",
      "Pickup accesorial already added or Invoice Created/\n",
      "194527 Pick Up Cost added: $352.94\n",
      "Pickup accesorial already added or Invoice Created/\n",
      "193852 Pick Up Cost added: $48.91\n"
     ]
    },
    {
     "ename": "WebDriverException",
     "evalue": "Message: chrome not reachable\n  (Session info: chrome=91.0.4472.164)\n",
     "output_type": "error",
     "traceback": [
      "\u001b[1;31m---------------------------------------------------------------------------\u001b[0m",
      "\u001b[1;31mWebDriverException\u001b[0m                        Traceback (most recent call last)",
      "\u001b[1;32m<ipython-input-27-0efc8a181216>\u001b[0m in \u001b[0;36m<module>\u001b[1;34m\u001b[0m\n\u001b[0;32m     43\u001b[0m \u001b[1;33m\u001b[0m\u001b[0m\n\u001b[0;32m     44\u001b[0m     \u001b[0mload_url\u001b[0m \u001b[1;33m=\u001b[0m \u001b[1;34m'http://boa.3plsystemscloud.com/App_BW/staff/shipment/shipmentCostPop.aspx?loadid='\u001b[0m \u001b[1;33m+\u001b[0m \u001b[0mload\u001b[0m \u001b[1;33m+\u001b[0m \u001b[1;34m'&by=volume'\u001b[0m\u001b[1;33m\u001b[0m\u001b[1;33m\u001b[0m\u001b[0m\n\u001b[1;32m---> 45\u001b[1;33m     \u001b[0mbrowser\u001b[0m\u001b[1;33m.\u001b[0m\u001b[0mget\u001b[0m\u001b[1;33m(\u001b[0m\u001b[0mload_url\u001b[0m\u001b[1;33m)\u001b[0m\u001b[1;33m\u001b[0m\u001b[1;33m\u001b[0m\u001b[0m\n\u001b[0m\u001b[0;32m     46\u001b[0m \u001b[1;33m\u001b[0m\u001b[0m\n\u001b[0;32m     47\u001b[0m     \u001b[1;32mtry\u001b[0m\u001b[1;33m:\u001b[0m\u001b[1;33m\u001b[0m\u001b[1;33m\u001b[0m\u001b[0m\n",
      "\u001b[1;32m~\\Documents\\LocalBobtail\\WPy64-3810\\python-3.8.1.amd64\\lib\\selenium\\webdriver\\remote\\webdriver.py\u001b[0m in \u001b[0;36mget\u001b[1;34m(self, url)\u001b[0m\n\u001b[0;32m    331\u001b[0m         \u001b[0mLoads\u001b[0m \u001b[0ma\u001b[0m \u001b[0mweb\u001b[0m \u001b[0mpage\u001b[0m \u001b[1;32min\u001b[0m \u001b[0mthe\u001b[0m \u001b[0mcurrent\u001b[0m \u001b[0mbrowser\u001b[0m \u001b[0msession\u001b[0m\u001b[1;33m.\u001b[0m\u001b[1;33m\u001b[0m\u001b[1;33m\u001b[0m\u001b[0m\n\u001b[0;32m    332\u001b[0m         \"\"\"\n\u001b[1;32m--> 333\u001b[1;33m         \u001b[0mself\u001b[0m\u001b[1;33m.\u001b[0m\u001b[0mexecute\u001b[0m\u001b[1;33m(\u001b[0m\u001b[0mCommand\u001b[0m\u001b[1;33m.\u001b[0m\u001b[0mGET\u001b[0m\u001b[1;33m,\u001b[0m \u001b[1;33m{\u001b[0m\u001b[1;34m'url'\u001b[0m\u001b[1;33m:\u001b[0m \u001b[0murl\u001b[0m\u001b[1;33m}\u001b[0m\u001b[1;33m)\u001b[0m\u001b[1;33m\u001b[0m\u001b[1;33m\u001b[0m\u001b[0m\n\u001b[0m\u001b[0;32m    334\u001b[0m \u001b[1;33m\u001b[0m\u001b[0m\n\u001b[0;32m    335\u001b[0m     \u001b[1;33m@\u001b[0m\u001b[0mproperty\u001b[0m\u001b[1;33m\u001b[0m\u001b[1;33m\u001b[0m\u001b[0m\n",
      "\u001b[1;32m~\\Documents\\LocalBobtail\\WPy64-3810\\python-3.8.1.amd64\\lib\\selenium\\webdriver\\remote\\webdriver.py\u001b[0m in \u001b[0;36mexecute\u001b[1;34m(self, driver_command, params)\u001b[0m\n\u001b[0;32m    319\u001b[0m         \u001b[0mresponse\u001b[0m \u001b[1;33m=\u001b[0m \u001b[0mself\u001b[0m\u001b[1;33m.\u001b[0m\u001b[0mcommand_executor\u001b[0m\u001b[1;33m.\u001b[0m\u001b[0mexecute\u001b[0m\u001b[1;33m(\u001b[0m\u001b[0mdriver_command\u001b[0m\u001b[1;33m,\u001b[0m \u001b[0mparams\u001b[0m\u001b[1;33m)\u001b[0m\u001b[1;33m\u001b[0m\u001b[1;33m\u001b[0m\u001b[0m\n\u001b[0;32m    320\u001b[0m         \u001b[1;32mif\u001b[0m \u001b[0mresponse\u001b[0m\u001b[1;33m:\u001b[0m\u001b[1;33m\u001b[0m\u001b[1;33m\u001b[0m\u001b[0m\n\u001b[1;32m--> 321\u001b[1;33m             \u001b[0mself\u001b[0m\u001b[1;33m.\u001b[0m\u001b[0merror_handler\u001b[0m\u001b[1;33m.\u001b[0m\u001b[0mcheck_response\u001b[0m\u001b[1;33m(\u001b[0m\u001b[0mresponse\u001b[0m\u001b[1;33m)\u001b[0m\u001b[1;33m\u001b[0m\u001b[1;33m\u001b[0m\u001b[0m\n\u001b[0m\u001b[0;32m    322\u001b[0m             response['value'] = self._unwrap_value(\n\u001b[0;32m    323\u001b[0m                 response.get('value', None))\n",
      "\u001b[1;32m~\\Documents\\LocalBobtail\\WPy64-3810\\python-3.8.1.amd64\\lib\\selenium\\webdriver\\remote\\errorhandler.py\u001b[0m in \u001b[0;36mcheck_response\u001b[1;34m(self, response)\u001b[0m\n\u001b[0;32m    240\u001b[0m                 \u001b[0malert_text\u001b[0m \u001b[1;33m=\u001b[0m \u001b[0mvalue\u001b[0m\u001b[1;33m[\u001b[0m\u001b[1;34m'alert'\u001b[0m\u001b[1;33m]\u001b[0m\u001b[1;33m.\u001b[0m\u001b[0mget\u001b[0m\u001b[1;33m(\u001b[0m\u001b[1;34m'text'\u001b[0m\u001b[1;33m)\u001b[0m\u001b[1;33m\u001b[0m\u001b[1;33m\u001b[0m\u001b[0m\n\u001b[0;32m    241\u001b[0m             \u001b[1;32mraise\u001b[0m \u001b[0mexception_class\u001b[0m\u001b[1;33m(\u001b[0m\u001b[0mmessage\u001b[0m\u001b[1;33m,\u001b[0m \u001b[0mscreen\u001b[0m\u001b[1;33m,\u001b[0m \u001b[0mstacktrace\u001b[0m\u001b[1;33m,\u001b[0m \u001b[0malert_text\u001b[0m\u001b[1;33m)\u001b[0m\u001b[1;33m\u001b[0m\u001b[1;33m\u001b[0m\u001b[0m\n\u001b[1;32m--> 242\u001b[1;33m         \u001b[1;32mraise\u001b[0m \u001b[0mexception_class\u001b[0m\u001b[1;33m(\u001b[0m\u001b[0mmessage\u001b[0m\u001b[1;33m,\u001b[0m \u001b[0mscreen\u001b[0m\u001b[1;33m,\u001b[0m \u001b[0mstacktrace\u001b[0m\u001b[1;33m)\u001b[0m\u001b[1;33m\u001b[0m\u001b[1;33m\u001b[0m\u001b[0m\n\u001b[0m\u001b[0;32m    243\u001b[0m \u001b[1;33m\u001b[0m\u001b[0m\n\u001b[0;32m    244\u001b[0m     \u001b[1;32mdef\u001b[0m \u001b[0m_value_or_default\u001b[0m\u001b[1;33m(\u001b[0m\u001b[0mself\u001b[0m\u001b[1;33m,\u001b[0m \u001b[0mobj\u001b[0m\u001b[1;33m,\u001b[0m \u001b[0mkey\u001b[0m\u001b[1;33m,\u001b[0m \u001b[0mdefault\u001b[0m\u001b[1;33m)\u001b[0m\u001b[1;33m:\u001b[0m\u001b[1;33m\u001b[0m\u001b[1;33m\u001b[0m\u001b[0m\n",
      "\u001b[1;31mWebDriverException\u001b[0m: Message: chrome not reachable\n  (Session info: chrome=91.0.4472.164)\n"
     ]
    }
   ],
   "source": [
    "from selenium import webdriver\n",
    "from datetime import date, datetime, timedelta\n",
    "from selenium.webdriver.support.ui import Select, WebDriverWait\n",
    "from selenium.webdriver.support import expected_conditions as EC\n",
    "import time\n",
    "import os\n",
    "import pandas as pd\n",
    "from selenium.webdriver.common.keys import Keys\n",
    "\n",
    "from pynput.keyboard import Key, Controller\n",
    "from IPython.display import display, HTML\n",
    "\n",
    "\n",
    "\n",
    "filepath = r'C:\\Users\\boa.sokchu\\Desktop\\Automated_Reports\\Pick Up Costs\\2021 Local Pick Up Data Week 22 - 34.xlsx'\n",
    "filename = '2021 Local Pick Up Data Week 22 - 34.xlsx'\n",
    "\n",
    "df = pd.read_excel(filepath, \"Input to TMS\")\n",
    "load_cost = map(str, df['Comb'])\n",
    "\n",
    "# activate chrome driver\n",
    "browser = webdriver.Chrome()\n",
    "browser.maximize_window()\n",
    "browser.get(\"https://boa.3plsystemscloud.com/\")\n",
    "\n",
    "# page elements to login\n",
    "boa_user = browser.find_element_by_id(\"txb-username\")\n",
    "boa_pw = browser.find_element_by_id(\"txb-password\")\n",
    "login_button = browser.find_element_by_id(\"ctl00_ContentBody_butLogin\")\n",
    "\n",
    "# login credentials\n",
    "boa_user.send_keys(\"sokchu@boalogistics.com\")\n",
    "boa_pw.send_keys(\"Immuneact10!\")\n",
    "login_button.click()\n",
    "\n",
    "\n",
    "for x in load_cost:\n",
    "# Open CLient Page on TMS\n",
    "    load_ID = x\n",
    "    \n",
    "    load = load_ID.split('#')[0]\n",
    "    cost = load_ID.split('#')[1]\n",
    "    \n",
    "    load_url = 'http://boa.3plsystemscloud.com/App_BW/staff/shipment/shipmentCostPop.aspx?loadid=' + load + '&by=volume'\n",
    "    browser.get(load_url)\n",
    "\n",
    "    try:\n",
    "        #Add pick up accessorial\n",
    "        dropdown = browser.find_element_by_xpath(\"//select[@name='ctl00$BodyContent$ddlAddSupplementals']/option[text()='Pickup']\").click()\n",
    "        add_button = browser.find_element_by_id(\"btnAddSupplemental\")\n",
    "        add_button.click()\n",
    "        \n",
    "        #Add pickup cost\n",
    "        #costbox = browser.find_element_by_id(\"ctl00_BodyContent_tbxAccessorialCostNet215_171651\")\n",
    "        #costbox.send_keys(Keys.CONTROL + 'a')\n",
    "        #costbox.send_keys(cost)\n",
    "        \n",
    "\n",
    "        #save_button = browser.find_element_by_id(\"btnUpdateCosts\")\n",
    "        #save_button.click()\n",
    "        \n",
    "    except:\n",
    "        print('Pickup accesorial already added or Invoice Created/')\n",
    "    \n",
    "    try:\n",
    "        #Add pickup cost\n",
    "        costbox = browser.find_element_by_xpath(\"//*[contains(@id, 'ctl00_BodyContent_tbxAccessorialCostNet215_')]\")\n",
    "        costbox.send_keys(Keys.CONTROL + 'a')\n",
    "        costbox.send_keys(cost)\n",
    "        save_button = browser.find_element_by_id(\"btnUpdateCosts\")\n",
    "        save_button.click()\n",
    "        print(load + ' Pick Up Cost added: $'+ cost)\n",
    "\n",
    "    except:\n",
    "        print(load + ' - Error: AR Invoice possibly exists.')\n",
    "\n",
    "\n",
    "    #print(load + ' Pick Up Cost added: $'+ cost)\n",
    "    time.sleep(3)\n",
    "\n",
    "print('Costs Updated')\n"
   ]
  },
  {
   "cell_type": "code",
   "execution_count": null,
   "metadata": {},
   "outputs": [],
   "source": [
    "//*[@id=\"ctl00_BodyContent_tbxAccessorialCostNet215_171662\"]\n",
    "sixth_item = driver.find_element_by_xpath(\"//*[contains(@id, 'coption')]\")\n",
    "\n"
   ]
  },
  {
   "cell_type": "code",
   "execution_count": null,
   "metadata": {},
   "outputs": [],
   "source": []
  },
  {
   "cell_type": "code",
   "execution_count": null,
   "metadata": {},
   "outputs": [],
   "source": []
  }
 ],
 "metadata": {
  "kernelspec": {
   "display_name": "Python 3",
   "language": "python",
   "name": "python3"
  },
  "language_info": {
   "codemirror_mode": {
    "name": "ipython",
    "version": 3
   },
   "file_extension": ".py",
   "mimetype": "text/x-python",
   "name": "python",
   "nbconvert_exporter": "python",
   "pygments_lexer": "ipython3",
   "version": "3.8.1"
  }
 },
 "nbformat": 4,
 "nbformat_minor": 4
}
