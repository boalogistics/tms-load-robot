{
 "cells": [
  {
   "cell_type": "code",
   "execution_count": 6,
   "metadata": {},
   "outputs": [
    {
     "name": "stdout",
     "output_type": "stream",
     "text": [
      "                    Load\n",
      "Entry Hour (AM/PM)      \n",
      "08AM                   4\n",
      "09AM                   3\n",
      "10AM                   1\n",
      "11AM                   1\n",
      "12PM                   2\n",
      "2PM                    1\n",
      "Image Saved!\n"
     ]
    },
    {
     "data": {
      "image/png": "[encoded data removed]",
      "text/plain": [
       "<Figure size 432x288 with 1 Axes>"
      ]
     },
     "metadata": {
      "needs_background": "light"
     },
     "output_type": "display_data"
    }
   ],
   "source": [
    "import pandas as pd\n",
    "import math\n",
    "import matplotlib.pyplot as plt\n",
    "import numpy as np\n",
    "import time\n",
    "from datetime import date, datetime, timedelta\n",
    "\n",
    "from outlook_send import send_email\n",
    "\n",
    "today = date.today()\n",
    "now = datetime.now()\n",
    "today_str = str(today)\n",
    "now_str = now.strftime(\"%I:%M %p\")\n",
    "\n",
    "#Open file\n",
    "df = pd.read_csv(\"Hourly_Tracker.csv\")\n",
    "\n",
    "#Create Pivot Table\n",
    "pivot = df.pivot_table(index=['Entry Hour'], values=['Load'], aggfunc ='count')\n",
    "pivot2 = df.pivot_table(index=['Entry Hour (AM/PM)'], values=['Load'], aggfunc ='count')\n",
    "print(pivot2)\n",
    "ymax = max(pivot.values) + 2\n",
    "#Create pivot chart\n",
    "%matplotlib inline\n",
    "pivot.plot(kind = 'bar')\n",
    "plt.xlabel(\"Time\")\n",
    "#plt.xticks(rotation = 0) \n",
    "#x_pos = (0,1,2,3,4,5,6,7,8,9)\n",
    "#x_label = ('8AM','9AM','10AM','11AM','12PM','1PM','2PM','3PM','4PM','5PM')\n",
    "#plt.xticks(x_pos,x_label)\n",
    "plt.xticks(rotation = 0) \n",
    "plt.ylabel(\"Loads Entered\")\n",
    "#plt.yticks(np.arange(0, ymax, 1))\n",
    "plt.title('Hourly Entry Tracker ' + today_str + ' Updated ' + now_str)\n",
    "#plt.savefig('Hourly_Tracker.png')\n",
    "print('Image Saved!')\n",
    "plt.show()\n",
    "chart = str(pivot2)\n",
    "\n",
    "file = 'Hourly_Tracker.png'\n",
    "\n",
    "# Pass arguments below in following order: To Address, Subject, Email Body, Path to file to attach\n",
    "\n",
    "#send_email('sokchu@boalogistics.com',\n",
    "#    'Hourly Tracker ' + today_str + ' ' + now_str,\n",
    "#    'TEST.\\n\\n' + chart + '\\n\\n\\nThank you,\\n\\nSokchu Hwang',file)"
   ]
  },
  {
   "cell_type": "code",
   "execution_count": null,
   "metadata": {},
   "outputs": [],
   "source": []
  },
  {
   "cell_type": "code",
   "execution_count": null,
   "metadata": {},
   "outputs": [],
   "source": []
  },
  {
   "cell_type": "code",
   "execution_count": null,
   "metadata": {},
   "outputs": [],
   "source": []
  }
 ],
 "metadata": {
  "kernelspec": {
   "display_name": "Python 3",
   "language": "python",
   "name": "python3"
  },
  "language_info": {
   "codemirror_mode": {
    "name": "ipython",
    "version": 3
   },
   "file_extension": ".py",
   "mimetype": "text/x-python",
   "name": "python",
   "nbconvert_exporter": "python",
   "pygments_lexer": "ipython3",
   "version": "3.8.1"
  }
 },
 "nbformat": 4,
 "nbformat_minor": 4
}
