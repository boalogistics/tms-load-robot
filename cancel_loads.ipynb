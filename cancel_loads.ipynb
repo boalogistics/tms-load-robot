{
 "cells": [
  {
   "cell_type": "code",
   "execution_count": 1,
   "metadata": {},
   "outputs": [
    {
     "name": "stdout",
     "output_type": "stream",
     "text": [
      "Done!\n"
     ]
    }
   ],
   "source": [
    "from selenium import webdriver\n",
    "from datetime import date, datetime, timedelta\n",
    "from selenium.webdriver.support.ui import Select, WebDriverWait\n",
    "from selenium.webdriver.support import expected_conditions as EC\n",
    "import time\n",
    "import os\n",
    "import pandas as pd\n",
    "\n",
    "from IPython.display import display, HTML\n",
    "\n",
    "# constant to establish download folder path, only need to change this to change location\n",
    "DOWNLOAD_FOLDER = r\"C:\\Users\\boa.sokchu\\Downloads\"\n",
    "\n",
    "# list of files before downloading\n",
    "before = os.listdir(DOWNLOAD_FOLDER)\n",
    "\n",
    "# activate chrome driver\n",
    "browser = webdriver.Chrome()\n",
    "browser.maximize_window()\n",
    "browser.get(\"https://boa.3plsystemscloud.com/\")\n",
    "\n",
    "# page elements to login\n",
    "boa_user = browser.find_element_by_id(\"txb-username\")\n",
    "boa_pw = browser.find_element_by_id(\"txb-password\")\n",
    "login_button = browser.find_element_by_id(\"ctl00_ContentBody_butLogin\")\n",
    "\n",
    "# login credentials\n",
    "boa_user.send_keys(\"sokchu@boalogistics.com\")\n",
    "boa_pw.send_keys(\"Immuneact10!\")\n",
    "login_button.click()\n",
    "\n",
    "\n",
    "load_list = [\n",
    "'200332', \n",
    "'200336', \n",
    "'200348', \n",
    "\n",
    "\n",
    "]\n",
    "\n",
    "\n",
    "for x in load_list:\n",
    "    load_id = x\n",
    "    load_url = 'https://boa.3plsystemscloud.com/App_BW/staff/shipment/shipmentDetail.aspx?loadid='+load_id\n",
    "    browser.get(load_url)\n",
    "    \n",
    "    js_cancel = 'WebForm_DoPostBackWithOptions(new WebForm_PostBackOptions(\"ctl00$BodyContent$lbCancel\", \"\", true, \"\", \"\", false, true))'\n",
    "    browser.execute_script(js_cancel)\n",
    "\n",
    "    shipment_url = 'http://boa.3plsystemscloud.com/App_BW/staff/shipment/shipmentNotes.aspx?showpop=0&loadid='+load_id\n",
    "    browser.get(shipment_url) \n",
    "    \n",
    "    shipment_notes_box = browser.find_element_by_id(\"ctl00_BodyContent_textNotes\")\n",
    "    submit_button = browser.find_element_by_id(\"ctl00_BodyContent_btnAddNote\")\n",
    "    shipment_notes_box.send_keys(\"***TEST!! NOT LIVE!!***\")\n",
    "    submit_button.click()\n",
    "\n",
    "browser.close()\n",
    "print('Done!')    "
   ]
  },
  {
   "cell_type": "code",
   "execution_count": null,
   "metadata": {},
   "outputs": [],
   "source": []
  },
  {
   "cell_type": "code",
   "execution_count": null,
   "metadata": {},
   "outputs": [],
   "source": []
  }
 ],
 "metadata": {
  "kernelspec": {
   "display_name": "Python 3",
   "language": "python",
   "name": "python3"
  },
  "language_info": {
   "codemirror_mode": {
    "name": "ipython",
    "version": 3
   },
   "file_extension": ".py",
   "mimetype": "text/x-python",
   "name": "python",
   "nbconvert_exporter": "python",
   "pygments_lexer": "ipython3",
   "version": "3.8.1"
  }
 },
 "nbformat": 4,
 "nbformat_minor": 4
}
