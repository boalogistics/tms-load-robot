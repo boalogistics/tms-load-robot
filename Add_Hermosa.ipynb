{
 "cells": [
  {
   "cell_type": "code",
   "execution_count": 1,
   "metadata": {},
   "outputs": [
    {
     "name": "stdout",
     "output_type": "stream",
     "text": [
      "Done!\n"
     ]
    }
   ],
   "source": [
    "from selenium import webdriver\n",
    "from datetime import date, datetime, timedelta\n",
    "from selenium.webdriver.support.ui import Select, WebDriverWait\n",
    "from selenium.webdriver.support import expected_conditions as EC\n",
    "import time\n",
    "import os\n",
    "import pandas as pd\n",
    "\n",
    "from pynput.keyboard import Key, Controller\n",
    "from IPython.display import display, HTML\n",
    "\n",
    "# constant to establish download folder path, only need to change this to change location\n",
    "DOWNLOAD_FOLDER = r\"C:\\Users\\boa.sokchu\\Downloads\"\n",
    "\n",
    "# list of files before downloading\n",
    "before = os.listdir(DOWNLOAD_FOLDER)\n",
    "\n",
    "# activate chrome driver\n",
    "browser = webdriver.Chrome()\n",
    "browser.maximize_window()\n",
    "browser.get(\"https://boa.3plsystemscloud.com/\")\n",
    "\n",
    "# page elements to login\n",
    "boa_user = browser.find_element_by_id(\"txb-username\")\n",
    "boa_pw = browser.find_element_by_id(\"txb-password\")\n",
    "login_button = browser.find_element_by_id(\"ctl00_ContentBody_butLogin\")\n",
    "\n",
    "# login credentials\n",
    "boa_user.send_keys(\"sokchu@boalogistics.com\")\n",
    "boa_pw.send_keys(\"Immuneact10!\")\n",
    "login_button.click()\n",
    "\n",
    "\n",
    "load_list = [\n",
    "'203390', \n",
    "'203391', \n",
    "'203393', \n",
    "'203396', \n",
    "\n",
    "]\n",
    "\n",
    "\n",
    "for x in load_list:\n",
    "    #Open edit stops page\n",
    "    load_id = x\n",
    "    load_url = 'http://boa.3plsystemscloud.com/App_BW/staff/shipment/EditAddrStops.aspx?clientid=611&loadid='+load_id+'#divEditStops'\n",
    "    browser.get(load_url)\n",
    "        \n",
    "    #Click Add Stop Button    \n",
    "    add_button = browser.find_element_by_id(\"ctl00_BodyContent_editStops_ctlAddStop_btnOpenmodal\")\n",
    "    add_button.click()\n",
    "    \n",
    "    #Stop Name\n",
    "    stop_name__box = browser.find_element_by_id(\"ctl00_BodyContent_editStops_ctlAddStop_CompName\")\n",
    "    stop_name__box.send_keys(\"Hermosa\")\n",
    "    \n",
    "    #wait to load suggested results\n",
    "    time.sleep(2)\n",
    "\n",
    "    #Select HF\n",
    "    keyboard = Controller()\n",
    "    keyboard.press(Key.enter)\n",
    "\n",
    "    \n",
    "    #Press Save\n",
    "    submit_button = browser.find_element_by_id(\"ctl00_BodyContent_editStops_ctlAddStop_btnSave\")\n",
    "    submit_button.click()\n",
    "    \n",
    "    #Press Up\n",
    "    js_up = 'WebForm_DoPostBackWithOptions(new WebForm_PostBackOptions(\"ctl00$BodyContent$editStops$RepeaterStops$ctl03$LinkButtonUP\", \"\", true, \"\", \"\", false, true))'\n",
    "    browser.execute_script(js_up)\n",
    "\n",
    "    #shipment_url = 'http://boa.3plsystemscloud.com/App_BW/staff/shipment/shipmentNotes.aspx?showpop=0&loadid='+load_id\n",
    "    #browser.get(shipment_url) \n",
    "    \n",
    "    #shipment_notes_box = browser.find_element_by_id(\"ctl00_BodyContent_editStops_ctlAddStop_CompName\")\n",
    "    #submit_button = browser.find_element_by_id(\"ctl00_BodyContent_btnAddNote\")\n",
    "    #shipment_notes_box.send_keys(\"***DUPLICATE ENTRY!! NOT LIVE!!***\")\n",
    "    #submit_button.click()\n",
    "browser.quit()\n",
    "print(\"Done!\")"
   ]
  },
  {
   "cell_type": "code",
   "execution_count": null,
   "metadata": {},
   "outputs": [],
   "source": []
  }
 ],
 "metadata": {
  "kernelspec": {
   "display_name": "Python 3",
   "language": "python",
   "name": "python3"
  },
  "language_info": {
   "codemirror_mode": {
    "name": "ipython",
    "version": 3
   },
   "file_extension": ".py",
   "mimetype": "text/x-python",
   "name": "python",
   "nbconvert_exporter": "python",
   "pygments_lexer": "ipython3",
   "version": "3.8.1"
  }
 },
 "nbformat": 4,
 "nbformat_minor": 4
}
