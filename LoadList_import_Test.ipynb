{
 "cells": [
  {
   "cell_type": "code",
   "execution_count": 7,
   "metadata": {},
   "outputs": [
    {
     "name": "stdout",
     "output_type": "stream",
     "text": [
      "0      190817\n",
      "1      190827\n",
      "2      190160\n",
      "3      190281\n",
      "4      190158\n",
      "        ...  \n",
      "142    190790\n",
      "143    190796\n",
      "144    190813\n",
      "145    190832\n",
      "146    190833\n",
      "Name: Load, Length: 147, dtype: int64\n"
     ]
    }
   ],
   "source": [
    "from selenium import webdriver\n",
    "from datetime import date, datetime, timedelta\n",
    "import time\n",
    "import os\n",
    "import pandas as pd\n",
    "\n",
    "#Load hourly tracker data\n",
    "\n",
    "filename = \"Hourly_Tracker.csv\"\n",
    "filepath = DOWNLOAD_FOLDER + \"\\\\\" + file_name\n",
    "df = pd.read_csv(filename)\n",
    "#print(data)\n",
    "load_list = df.Load\n",
    "print(load_list)"
   ]
  },
  {
   "cell_type": "code",
   "execution_count": null,
   "metadata": {},
   "outputs": [],
   "source": []
  }
 ],
 "metadata": {
  "kernelspec": {
   "display_name": "Python 3",
   "language": "python",
   "name": "python3"
  },
  "language_info": {
   "codemirror_mode": {
    "name": "ipython",
    "version": 3
   },
   "file_extension": ".py",
   "mimetype": "text/x-python",
   "name": "python",
   "nbconvert_exporter": "python",
   "pygments_lexer": "ipython3",
   "version": "3.8.1"
  }
 },
 "nbformat": 4,
 "nbformat_minor": 4
}
